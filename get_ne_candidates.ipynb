{
 "cells": [
  {
   "cell_type": "code",
   "execution_count": 1,
   "metadata": {},
   "outputs": [],
   "source": [
    "import torch\n",
    "import torchvision.models as models\n",
    "from PIL import Image\n",
    "from torchvision import transforms\n",
    "import json\n",
    "import os\n",
    "import numpy as np"
   ]
  },
  {
   "cell_type": "code",
   "execution_count": 4,
   "metadata": {},
   "outputs": [],
   "source": [
    "BASE_DIR = './newsdata'\n",
    "WORKING_DIR = './newsmodels'"
   ]
  },
  {
   "cell_type": "code",
   "execution_count": 8,
   "metadata": {},
   "outputs": [],
   "source": [
    "device = torch.device(\"cuda\" if torch.cuda.is_available() else \"cpu\")\n",
    "labels = json.load(open('imagenet_class_index.json'))\n",
    "vgg16 = models.vgg16(weights='IMAGENET1K_V1')\n",
    "# Get articles\n",
    "f = open(BASE_DIR+'/article.json')\n",
    "articles = json.load(f)\n",
    "f.close()"
   ]
  },
  {
   "cell_type": "code",
   "execution_count": 8,
   "metadata": {},
   "outputs": [],
   "source": [
    "def classify_one_image(img_path,model):\n",
    "    img = Image.open(img_path)\n",
    "    torch.manual_seed(42)\n",
    "    transform = transforms.Compose([\n",
    "        transforms.Resize(256),\n",
    "        transforms.CenterCrop(224),\n",
    "        transforms.ToTensor(),\n",
    "        transforms.Normalize(\n",
    "        mean=[0.485, 0.456, 0.406],\n",
    "        std=[0.229, 0.224, 0.225]\n",
    "    )])\n",
    "    image = transform(img).unsqueeze(0).to(device)  \n",
    "    prediction = model(image)\n",
    "    prob = torch.nn.functional.softmax(prediction, dim=1)[0].detach().numpy()\n",
    "    top3_idx = prob.argsort()[-3:]\n",
    "    class_labels = []\n",
    "    for i in top3_idx:\n",
    "        class_prob = prob[i]\n",
    "        if class_prob>0.1: # Only consider classes with probability greater than 0.1\n",
    "            class_label = labels[str(i)][1]\n",
    "            # print(class_prob)\n",
    "            # print(class_label)\n",
    "            class_labels.append(class_label)\n",
    "    if len(class_labels)==0:\n",
    "        class_label = labels[str(top3_idx[-1])][1]\n",
    "        class_labels.append(class_label)\n",
    "    return class_labels\n"
   ]
  },
  {
   "cell_type": "code",
   "execution_count": 9,
   "metadata": {},
   "outputs": [],
   "source": [
    "def generate_ner_dicts(images,articles,model,indices):\n",
    "    ner_dict= {}\n",
    "    for i in indices:\n",
    "        img_name = images[i]\n",
    "        article_id = img_name[:24]\n",
    "        if article_id in articles.keys():\n",
    "            img_classes = classify_one_image(BASE_DIR+'/all_images/'+img_name,model)\n",
    "            ners = articles[article_id]['ner']\n",
    "            for c in img_classes:\n",
    "                if c not in ner_dict.keys():\n",
    "                    ner_dict_class = {'PERSON':[],'NORP':[],'FAC':[],'ORG':[],'GPE':[],\n",
    "                                    'LOC':[],'PRODUCT':[],'EVENT':[],'WORK_OF_ART':[],\n",
    "                                    'LAW':[],'LANGUAGE':[],'DATE':[],'TIME':[],'PERCENT':[],\n",
    "                                    'MONEY':[],'QUANTITY':[],'ORDINAL':[],'CARDINAL':[]}\n",
    "                    for key,val in ners.items():\n",
    "                        ner_dict_class[val].append(key)\n",
    "                    ner_dict[c] = ner_dict_class\n",
    "                else:\n",
    "                    for key,val in ners.items():\n",
    "                        ner_dict[c][val].append(key)\n",
    "    return ner_dict"
   ]
  },
  {
   "cell_type": "code",
   "execution_count": 13,
   "metadata": {},
   "outputs": [],
   "source": [
    "all_images = os.listdir(BASE_DIR+\"/all_images/\")\n",
    "np.random.seed(123)\n",
    "indices = np.random.choice(range(len(all_images)), size=10000, replace=False)\n",
    "ner_dict = generate_ner_dicts(all_images,articles,vgg16,indices)"
   ]
  },
  {
   "cell_type": "code",
   "execution_count": 391,
   "metadata": {},
   "outputs": [],
   "source": [
    "with open(WORKING_DIR+'/ner_for_classes.json', 'w') as fp:\n",
    "    json.dump(ner_dict, fp)"
   ]
  }
 ],
 "metadata": {
  "kernelspec": {
   "display_name": "Python 3.10.8 64-bit",
   "language": "python",
   "name": "python3"
  },
  "language_info": {
   "codemirror_mode": {
    "name": "ipython",
    "version": 3
   },
   "file_extension": ".py",
   "mimetype": "text/x-python",
   "name": "python",
   "nbconvert_exporter": "python",
   "pygments_lexer": "ipython3",
   "version": "3.10.8"
  },
  "orig_nbformat": 4,
  "vscode": {
   "interpreter": {
    "hash": "aee8b7b246df8f9039afb4144a1f6fd8d2ca17a180786b69acc140d282b71a49"
   }
  }
 },
 "nbformat": 4,
 "nbformat_minor": 2
}
