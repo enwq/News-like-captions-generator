{
 "cells": [
  {
   "cell_type": "code",
   "execution_count": 1,
   "metadata": {},
   "outputs": [],
   "source": [
    "import json\n",
    "import spacy\n",
    "import numpy as np\n",
    "import shutil\n",
    "import os"
   ]
  },
  {
   "cell_type": "code",
   "execution_count": 2,
   "metadata": {},
   "outputs": [],
   "source": [
    "BASE_DIR = './newsdata'"
   ]
  },
  {
   "cell_type": "code",
   "execution_count": 3,
   "metadata": {},
   "outputs": [],
   "source": [
    "# Get captions \n",
    "f = open(BASE_DIR+'/news_dataset.json')\n",
    "caption_data_raw = json.load(f)\n",
    "f.close()"
   ]
  },
  {
   "cell_type": "code",
   "execution_count": 88,
   "metadata": {},
   "outputs": [],
   "source": [
    "def get_captions(data,indices):\n",
    "    # Get captions at specified indices and do NER on the captions\n",
    "    caption_data_cleaned =[[\"image\",\"caption\"]]\n",
    "    nlp = spacy.load(\"en_core_web_sm\")\n",
    "    nlp.add_pipe(\"merge_entities\")\n",
    "    if not os.path.exists(BASE_DIR+'/Images/'): \n",
    "        os.makedirs(BASE_DIR+'/Images/')\n",
    "    else:\n",
    "        for file in os.listdir(BASE_DIR+'/Images/'):\n",
    "            os.remove(BASE_DIR+'/Images/'+file)\n",
    "    for i in indices:\n",
    "        entry = data[i]\n",
    "        caption = entry['sentences_full'][0]['raw']\n",
    "        doc = nlp(caption)\n",
    "        caption_ner = \" \".join([t.text if not t.ent_type_ else '<'+t.ent_type_+'>' for t in doc])\n",
    "        image_name = entry['filename']\n",
    "        image_path = BASE_DIR+'/all_images/'+image_name\n",
    "        if os.path.isfile(image_path):\n",
    "            shutil.copy(image_path, BASE_DIR+'/Images/'+image_name)\n",
    "        else:\n",
    "            continue\n",
    "        entry_cleaned = [image_name,caption_ner]\n",
    "        caption_data_cleaned.append(entry_cleaned)\n",
    "    return np.array(caption_data_cleaned)"
   ]
  },
  {
   "cell_type": "code",
   "execution_count": 119,
   "metadata": {},
   "outputs": [
    {
     "data": {
      "text/plain": [
       "array([461404, 403235, 236893, ...,  64352,  47588,  23483])"
      ]
     },
     "execution_count": 119,
     "metadata": {},
     "output_type": "execute_result"
    }
   ],
   "source": [
    "np.random.seed(42)\n",
    "indices = np.random.choice(range(len(caption_data_raw)), size=8000, replace=False)\n",
    "indices"
   ]
  },
  {
   "cell_type": "code",
   "execution_count": 120,
   "metadata": {},
   "outputs": [
    {
     "name": "stdout",
     "output_type": "stream",
     "text": [
      "[['image' 'caption']\n",
      " ['59838df695d0e0246f1fdff4_3.jpg'\n",
      "  '<PERSON> Ring acrylic on papiermch from <DATE> On the wall Jayson Mussons <ORG> gouache on coffeetinted paper from <DATE> at <PERSON>']\n",
      " ['52dda2c438f0d808a7480e23_1.jpg'\n",
      "  'The Knicks <PERSON> battling <PERSON> said the Nets continually found mismatches']\n",
      " ...\n",
      " ['52f0522a38f0d80f67aeba9a_3.jpg'\n",
      "  '<GPE> taking her gear to the teams locker room at the alley']\n",
      " ['5a60a82d95d0e0110c1a5379_0.jpg'\n",
      "  '<PERSON> the former <NORP> governor of <GPE> sorted through tickets to <PERSON> shows that he had saved at his home in <DATE>']\n",
      " ['541bd60238f0d8296cb1029c_0.jpg'\n",
      "  'An invitation to an event in <DATE> that is being held by <ORG> network of donors']]\n"
     ]
    }
   ],
   "source": [
    "dataset = get_captions(caption_data_raw,indices)\n",
    "np.savetxt(BASE_DIR+\"/news_captions_ner.txt\", dataset,delimiter=',',fmt=\"%s\")\n",
    "print(dataset)"
   ]
  }
 ],
 "metadata": {
  "kernelspec": {
   "display_name": "Python 3.10.8 64-bit",
   "language": "python",
   "name": "python3"
  },
  "language_info": {
   "codemirror_mode": {
    "name": "ipython",
    "version": 3
   },
   "file_extension": ".py",
   "mimetype": "text/x-python",
   "name": "python",
   "nbconvert_exporter": "python",
   "pygments_lexer": "ipython3",
   "version": "3.10.8"
  },
  "orig_nbformat": 4,
  "vscode": {
   "interpreter": {
    "hash": "aee8b7b246df8f9039afb4144a1f6fd8d2ca17a180786b69acc140d282b71a49"
   }
  }
 },
 "nbformat": 4,
 "nbformat_minor": 2
}
